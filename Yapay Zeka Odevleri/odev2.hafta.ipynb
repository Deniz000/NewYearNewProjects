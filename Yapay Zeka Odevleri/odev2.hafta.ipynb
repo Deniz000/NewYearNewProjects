{
 "cells": [
  {
   "cell_type": "code",
   "execution_count": null,
   "id": "dd0fabb7",
   "metadata": {},
   "outputs": [],
   "source": [
    "\"\"\"Hafta 2\"\"\""
   ]
  },
  {
   "cell_type": "code",
   "execution_count": 1,
   "id": "56ec4b6b",
   "metadata": {},
   "outputs": [
    {
     "name": "stdout",
     "output_type": "stream",
     "text": [
      "1. Açıyı Girin: 30\n",
      "2. Açıyı Girin: 60\n",
      "3. Açıyı Girin: 90\n",
      "Bu bir dik üçgen.\n"
     ]
    }
   ],
   "source": [
    "a = int(input(\"1. Açıyı Girin: \"))\n",
    "b = int(input(\"2. Açıyı Girin: \"))\n",
    "c = int(input(\"3. Açıyı Girin: \"))\n",
    "\n",
    "if a + b + c == 180:\n",
    "    if a == 90 or b == 90 or c == 90:\n",
    "        print(\"Bu bir dik üçgen.\")\n",
    "    elif a > 90 or b > 90 or c > 90:\n",
    "        print(\"Bu bir geniş üçgen.\")\n",
    "    else:\n",
    "        print(\"Bu bir dar üçgen.\")\n",
    "else:\n",
    "    print(\"Bu bir üçgen değildir.\")"
   ]
  },
  {
   "cell_type": "code",
   "execution_count": 2,
   "id": "5fcb8173",
   "metadata": {},
   "outputs": [
    {
     "name": "stdout",
     "output_type": "stream",
     "text": [
      "Uzaylının rengini girin (kırmızı, yeşil, sarı): yeşil\n",
      "Tebrikler, yeşil uzaylıya ateş ettiğiniz için 5 puan kazandınız.\n"
     ]
    }
   ],
   "source": [
    "uzaylı_rengi = input(\"Uzaylının rengini girin (kırmızı, yeşil, sarı): \")\n",
    "\n",
    "if uzaylı_rengi == \"yeşil\":\n",
    "    print(\"Tebrikler, yeşil uzaylıya ateş ettiğiniz için 5 puan kazandınız.\")\n",
    "else:\n",
    "    print(\"Tebrikler, yeşil olmayan uzaylıya ateş ettiğiniz için 10 puan kazandınız.\")\n",
    "    "
   ]
  },
  {
   "cell_type": "code",
   "execution_count": 3,
   "id": "aae0e34a",
   "metadata": {},
   "outputs": [
    {
     "name": "stdout",
     "output_type": "stream",
     "text": [
      "Uzaylının rengini girin (kırmızı, yeşil, sarı): sarı\n",
      "Tebrikler, sarı uzaylıya ateş ettiğiniz için 10 puan kazandınız.\n"
     ]
    }
   ],
   "source": [
    "uzaylı_rengi = input(\"Uzaylının rengini girin (kırmızı, yeşil, sarı): \")\n",
    "\n",
    "if uzaylı_rengi == \"yeşil\":\n",
    "    print(\"Tebrikler, yeşil uzaylıya ateş ettiğiniz için 5 puan kazandınız.\")\n",
    "elif uzaylı_rengi == \"sarı\":\n",
    "    print(\"Tebrikler, sarı uzaylıya ateş ettiğiniz için 10 puan kazandınız.\")\n",
    "elif uzaylı_rengi == \"kırmızı\":\n",
    "    print(\"Tebrikler, kırmızı uzaylıya ateş ettiğiniz için 15 puan kazandınız.\")\n",
    "else:\n",
    "    print(\"Geçersiz renk! Lütfen kırmızı, yeşil veya sarı renklerinden birini girin.\")"
   ]
  },
  {
   "cell_type": "code",
   "execution_count": 4,
   "id": "443fe8e8",
   "metadata": {},
   "outputs": [
    {
     "name": "stdout",
     "output_type": "stream",
     "text": [
      "Yaşınızı giriniz: 23\n",
      "Bu kişi yetişkindir\n"
     ]
    }
   ],
   "source": [
    "yas = int(input(\"Yaşınızı giriniz: \"))\n",
    "\n",
    "if yas < 2:\n",
    "    print(\"Bu kişi bebektir\")\n",
    "elif yas <= 4:\n",
    "    print(\"Bu kişi yeni yürümeye başlayan çocuktur\")\n",
    "elif yas <= 13:\n",
    "    print(\"Bu kişi çocuktur\")\n",
    "elif yas <= 20:\n",
    "    print(\"Bu kişi ergendir\")\n",
    "elif yas <= 65:\n",
    "    print(\"Bu kişi yetişkindir\")\n",
    "else:\n",
    "    print(\"Bu kişi yaşlıdır\")\n"
   ]
  },
  {
   "cell_type": "code",
   "execution_count": 5,
   "id": "c7885a2e",
   "metadata": {},
   "outputs": [
    {
     "name": "stdout",
     "output_type": "stream",
     "text": [
      "Elma favori meyvelerim arasında!\n",
      "Karpuz favori meyvelerim arasında değil :(\n",
      "Vişne favori meyvelerim arasında değil :(\n"
     ]
    }
   ],
   "source": [
    "favori_meyveler = [\"elma\", \"muz\", \"çilek\", \"kiraz\", \"portakal\"]\n",
    "\n",
    "if \"elma\" in favori_meyveler:\n",
    "    print(\"Elma favori meyvelerim arasında!\")\n",
    "else:\n",
    "    print(\"Elma favori meyvelerim arasında değil :(\")\n",
    "\n",
    "if \"karpuz\" in favori_meyveler:\n",
    "    print(\"Karpuz favori meyvelerim arasında!\")\n",
    "else:\n",
    "    print(\"Karpuz favori meyvelerim arasında değil :(\")\n",
    "\n",
    "if \"vişne\" in favori_meyveler:\n",
    "    print(\"Vişne favori meyvelerim arasında!\")\n",
    "else:\n",
    "    print(\"Vişne favori meyvelerim arasında değil :(\")\n",
    "    "
   ]
  },
  {
   "cell_type": "code",
   "execution_count": null,
   "id": "efcf269c",
   "metadata": {},
   "outputs": [],
   "source": []
  }
 ],
 "metadata": {
  "kernelspec": {
   "display_name": "Python 3 (ipykernel)",
   "language": "python",
   "name": "python3"
  },
  "language_info": {
   "codemirror_mode": {
    "name": "ipython",
    "version": 3
   },
   "file_extension": ".py",
   "mimetype": "text/x-python",
   "name": "python",
   "nbconvert_exporter": "python",
   "pygments_lexer": "ipython3",
   "version": "3.9.15"
  }
 },
 "nbformat": 4,
 "nbformat_minor": 5
}
