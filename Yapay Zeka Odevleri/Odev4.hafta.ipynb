{
 "cells": [
  {
   "cell_type": "code",
   "execution_count": 1,
   "id": "16f7c2c2",
   "metadata": {},
   "outputs": [],
   "source": [
    "from sklearn.datasets import load_iris\n",
    "\n",
    "iris = load_iris()\n",
    "\n",
    "X = iris.data \n",
    "y = iris.target\n"
   ]
  },
  {
   "cell_type": "code",
   "execution_count": 2,
   "id": "e189fcae",
   "metadata": {},
   "outputs": [],
   "source": [
    "from sklearn.model_selection import train_test_split\n",
    "\n",
    "# Veri setimizi %80 eğitim, %20 test olarak ayıralım\n",
    "X_train, X_test, y_train, y_test = train_test_split(X, y, test_size=0.2, random_state=42)\n"
   ]
  },
  {
   "cell_type": "code",
   "execution_count": 4,
   "id": "185270a5",
   "metadata": {},
   "outputs": [
    {
     "name": "stderr",
     "output_type": "stream",
     "text": [
      "/Users/guldenizozdemir/opt/anaconda3/envs/ENV1/lib/python3.9/site-packages/sklearn/neural_network/_multilayer_perceptron.py:692: ConvergenceWarning: Stochastic Optimizer: Maximum iterations (1000) reached and the optimization hasn't converged yet.\n",
      "  warnings.warn(\n"
     ]
    },
    {
     "data": {
      "text/plain": [
       "MLPClassifier(hidden_layer_sizes=(5, 2), max_iter=1000, random_state=42)"
      ]
     },
     "execution_count": 4,
     "metadata": {},
     "output_type": "execute_result"
    }
   ],
   "source": [
    "from sklearn.neural_network import MLPClassifier\n",
    "\n",
    "mlp = MLPClassifier(hidden_layer_sizes=(5, 2), max_iter=1000, random_state=42)\n",
    "\n",
    "mlp.fit(X_train, y_train)\n"
   ]
  },
  {
   "cell_type": "code",
   "execution_count": 5,
   "id": "5f378308",
   "metadata": {},
   "outputs": [
    {
     "name": "stdout",
     "output_type": "stream",
     "text": [
      "Accuracy:  0.6333333333333333\n"
     ]
    }
   ],
   "source": [
    "from sklearn.metrics import accuracy_score\n",
    "\n",
    "y_pred = mlp.predict(X_test)\n",
    "\n",
    "accuracy = accuracy_score(y_test, y_pred)\n",
    "\n",
    "print(\"Accuracy: \", accuracy)\n"
   ]
  },
  {
   "cell_type": "code",
   "execution_count": null,
   "id": "60bf04f4",
   "metadata": {},
   "outputs": [],
   "source": [
    "#2. soru çarprazlama"
   ]
  },
  {
   "cell_type": "code",
   "execution_count": null,
   "id": "0c3c9637",
   "metadata": {},
   "outputs": [],
   "source": [
    "import pandas as pd\n",
    "from sklearn.neighbors import KNeighborsClassifier\n",
    "from sklearn.model_selection import cross_val_score\n",
    "\n",
    "# Veri setini yükleyelim\n",
    "data = pd.read_csv(\"iris.csv\")\n",
    "\n",
    "# Özellikleri ve sınıf etiketlerini ayıralım\n",
    "X = data.iloc[:, :-1]\n",
    "y = data.iloc[:, -1]\n",
    "\n",
    "# K-NN sınıflandırma modelini oluşturalım\n",
    "knn = KNeighborsClassifier(n_neighbors=3)\n",
    "\n",
    "# 10 katlı çapraz doğrulama işlemi yapalım\n",
    "scores = cross_val_score(knn, X, y, cv=10)\n",
    "\n",
    "# Sonuçları yazdıralım\n",
    "print(\"Accuracy: %0.2f (+/- %0.2f)\" % (scores.mean(), scores.std() * 2))\n",
    "\n"
   ]
  },
  {
   "cell_type": "code",
   "execution_count": null,
   "id": "bf9a97a7",
   "metadata": {},
   "outputs": [],
   "source": [
    "#soru 3"
   ]
  },
  {
   "cell_type": "code",
   "execution_count": null,
   "id": "977746ad",
   "metadata": {},
   "outputs": [],
   "source": [
    "import pandas as pd\n",
    "from sklearn.neighbors import KNeighborsClassifier\n",
    "from sklearn.model_selection import train_test_split\n",
    "from sklearn.metrics import accuracy_score\n",
    "\n",
    "# Veri setini yükleyelim\n",
    "data = pd.read_csv(\"telefon_fiyat_değişimi.csv\")\n",
    "\n",
    "# \"blue\", \"fc\", \"int_memory\", \"ram\" ve \"wifi\" özelliklerini çıkaralım\n",
    "X = data.drop([\"blue\", \"fc\", \"int_memory\", \"ram\", \"wifi\"], axis=1)\n",
    "y = data[\"price_range\"]\n",
    "\n",
    "# Eğitim ve test verilerini ayıralım\n",
    "X_train, X_test, y_train, y_test = train_test_split(X, y, test_size=0.2, random_state=42)\n",
    "\n",
    "# K-NN sınıflandırma modelini oluşturalım\n",
    "knn = KNeighborsClassifier(n_neighbors=3)\n",
    "\n",
    "# Modeli eğitelim\n",
    "knn.fit(X_train, y_train)\n",
    "\n",
    "# Test verileri ile modelin performansını değerlendirelim\n",
    "y_pred = knn.predict(X_test)\n",
    "accuracy = accuracy_score(y_test, y_pred)\n",
    "print(\"Accuracy:\", accuracy)\n"
   ]
  },
  {
   "cell_type": "code",
   "execution_count": null,
   "id": "5df7c247",
   "metadata": {},
   "outputs": [],
   "source": [
    "#soru 4"
   ]
  },
  {
   "cell_type": "code",
   "execution_count": null,
   "id": "80d567cb",
   "metadata": {},
   "outputs": [],
   "source": [
    "import pandas as pd\n",
    "import numpy as np\n",
    "import matplotlib.pyplot as plt\n",
    "from sklearn.model_selection import train_test_split\n",
    "from sklearn.preprocessing import StandardScaler\n",
    "from keras.models import Sequential\n",
    "from keras.layers import Dense\n",
    "\n",
    "# Veri setini yükleyelim\n",
    "data = pd.read_csv(\"diabetes.csv\")\n",
    "\n",
    "# X ve y'yi ayıralım\n",
    "X = data.drop([\"Outcome\"], axis=1).values\n",
    "y = data[\"Outcome\"].values\n",
    "\n",
    "# Eğitim ve test verilerini ayıralım\n",
    "X_train, X_test, y_train, y_test = train_test_split(X, y, test_size=0.2, random_state=42)\n",
    "\n",
    "# Verileri ölçeklendirelim\n",
    "scaler = StandardScaler()\n",
    "X_train = scaler.fit_transform(X_train)\n",
    "X_test = scaler.transform(X_test)\n",
    "\n",
    "# YSA modelini oluşturalım\n",
    "model = Sequential()\n",
    "model.add(Dense(12, input_dim=8, activation=\"relu\"))\n",
    "model.add(Dense(8, activation=\"relu\"))\n",
    "model.add(Dense(1, activation=\"sigmoid\"))\n",
    "\n",
    "# Modeli derleyelim\n",
    "model.compile(loss=\"binary_crossentropy\", optimizer=\"adam\", metrics=[\"accuracy\"])\n",
    "\n",
    "# Modeli eğitelim\n",
    "history = model.fit(X_train, y_train, validation_data=(X_test, y_test), epochs=150, batch_size=10)\n",
    "\n",
    "# Eğitim ve doğrulama işlemlerinin başarım ve kayıp değerlerini alalım\n",
    "train_acc = history.history[\"accuracy\"]\n",
    "val_acc = history.history[\"val_accuracy\"]\n",
    "train_loss = history.history[\"loss\"]\n",
    "val_loss = history.history[\"val_loss\"]\n",
    "\n",
    "# Başarım değerlerini bir grafikte gösterelim\n",
    "plt.plot(train_acc)\n",
    "plt.plot(val_acc)\n",
    "plt.title(\"Model Başarımı\")\n",
    "plt.ylabel(\"Başarım\")\n",
    "plt.xlabel(\"Epok\")\n",
    "plt.legend([\"Eğitim\", \"Doğrulama\"], loc=\"upper left\")\n",
    "plt.show()\n"
   ]
  },
  {
   "cell_type": "code",
   "execution_count": null,
   "id": "034c8f0b",
   "metadata": {},
   "outputs": [],
   "source": [
    "#soru 5"
   ]
  },
  {
   "cell_type": "code",
   "execution_count": null,
   "id": "c15ee336",
   "metadata": {},
   "outputs": [],
   "source": [
    "from sklearn.metrics import roc_curve, auc\n",
    "\n",
    "# Test verileri üzerinde tahmin yapalım\n",
    "y_pred = model.predict(X_test).ravel()\n",
    "\n",
    "# ROC eğrisini ve AUC değerini hesaplayalım\n",
    "fpr, tpr, thresholds = roc_curve(y_test, y_pred)\n",
    "roc_auc = auc(fpr, tpr)\n",
    "\n",
    "# ROC eğrisini çizdirelim\n",
    "plt.plot(fpr, tpr, lw=1, alpha=0.8,\n",
    "         label='ROC (AUC = %0.2f)' % (roc_auc))\n",
    "plt.plot([0, 1], [0, 1], linestyle='--', lw=2, color='r',\n",
    "         label='Rastgele Seçim', alpha=.8)\n",
    "\n",
    "# Eksenleri ve başlıkları ayarlayalım\n",
    "plt.xlim([-0.05, 1.05])\n",
    "plt.ylim([-0.05, 1.05])\n",
    "plt.xlabel('Yanlış Pozitif Oran')\n",
    "plt.ylabel('Doğru Pozitif Oran')\n",
    "plt.title('ROC Eğrisi')\n",
    "plt.legend(loc=\"lower right\")\n",
    "plt.show()\n"
   ]
  }
 ],
 "metadata": {
  "kernelspec": {
   "display_name": "Python 3 (ipykernel)",
   "language": "python",
   "name": "python3"
  },
  "language_info": {
   "codemirror_mode": {
    "name": "ipython",
    "version": 3
   },
   "file_extension": ".py",
   "mimetype": "text/x-python",
   "name": "python",
   "nbconvert_exporter": "python",
   "pygments_lexer": "ipython3",
   "version": "3.9.15"
  }
 },
 "nbformat": 4,
 "nbformat_minor": 5
}
