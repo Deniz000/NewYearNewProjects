{
 "cells": [
  {
   "cell_type": "code",
   "execution_count": 1,
   "id": "254ffa3d",
   "metadata": {},
   "outputs": [
    {
     "name": "stdout",
     "output_type": "stream",
     "text": [
      "Bir sayı girin: 10\n",
      "10 x 1 = 10\n",
      "10 x 2 = 20\n",
      "10 x 3 = 30\n",
      "10 x 4 = 40\n",
      "10 x 5 = 50\n",
      "10 x 6 = 60\n",
      "10 x 7 = 70\n",
      "10 x 8 = 80\n",
      "10 x 9 = 90\n",
      "10 x 10 = 100\n"
     ]
    }
   ],
   "source": [
    "num = int(input(\"Bir sayı girin: \"))\n",
    "\n",
    "for i in range(1, 11):\n",
    "    print(num, \"x\", i, \"=\", num*i)\n"
   ]
  },
  {
   "cell_type": "code",
   "execution_count": 2,
   "id": "117dcbaa",
   "metadata": {},
   "outputs": [
    {
     "name": "stdout",
     "output_type": "stream",
     "text": [
      "Bir sayı girin: 234\n",
      "Girilen sayı 3 basamaklıdır.\n"
     ]
    }
   ],
   "source": [
    "num = int(input(\"Bir sayı girin: \"))\n",
    "\n",
    "count = 0\n",
    "while num != 0:\n",
    "    count += 1\n",
    "    num //= 10\n",
    "\n",
    "print(\"Girilen sayı\", count, \"basamaklıdır.\")"
   ]
  },
  {
   "cell_type": "code",
   "execution_count": 3,
   "id": "be424f6e",
   "metadata": {},
   "outputs": [
    {
     "name": "stdout",
     "output_type": "stream",
     "text": [
      "For döngüsü ile çözüm:\n",
      "15\n",
      "55\n",
      "75\n",
      "150\n",
      "While döngüsü ile çözüm:\n",
      "15\n",
      "55\n",
      "75\n",
      "150\n"
     ]
    }
   ],
   "source": [
    "sayısalDeğerler = [12, 15, 32, 42, 55, 75, 122, 132, 150, 180, 200]\n",
    "\n",
    "print(\"For döngüsü ile çözüm:\")\n",
    "for sayı in sayısalDeğerler:\n",
    "    if sayı % 5 == 0 and sayı <= 150:\n",
    "        print(sayı)\n",
    "\n",
    "print(\"While döngüsü ile çözüm:\")\n",
    "i = 0\n",
    "while i < len(sayısalDeğerler):\n",
    "    if sayısalDeğerler[i] % 5 == 0 and sayısalDeğerler[i] <= 150:\n",
    "        print(sayısalDeğerler[i])\n",
    "    i += 1\n"
   ]
  },
  {
   "cell_type": "code",
   "execution_count": 4,
   "id": "16a7bb22",
   "metadata": {},
   "outputs": [
    {
     "name": "stdout",
     "output_type": "stream",
     "text": [
      "a değerini girin: 34\n",
      "b değerini girin: 54\n",
      "c değerini girin: 4\n",
      "34 ve 54 arasında 5 sayı 4'ye bölünebilir.\n"
     ]
    }
   ],
   "source": [
    "a = int(input(\"a değerini girin: \"))\n",
    "b = int(input(\"b değerini girin: \"))\n",
    "c = int(input(\"c değerini girin: \"))\n",
    "\n",
    "sayac = 0\n",
    "\n",
    "for i in range(a, b+1):\n",
    "    if i % c == 0:\n",
    "        sayac += 1\n",
    "\n",
    "print(\"{0} ve {1} arasında {2} sayı {3}'ye bölünebilir.\".format(a, b, sayac, c))\n"
   ]
  },
  {
   "cell_type": "code",
   "execution_count": 5,
   "id": "243302fc",
   "metadata": {},
   "outputs": [
    {
     "name": "stdout",
     "output_type": "stream",
     "text": [
      "1 - 99\n",
      "2 - 98\n",
      "3 - 97\n",
      "4 - 96\n",
      "5 - 95\n",
      "6 - 94\n",
      "7 - 93\n",
      "8 - 92\n",
      "9 - 91\n",
      "10 - 90\n",
      "11 - 89\n",
      "12 - 88\n",
      "13 - 87\n",
      "14 - 86\n",
      "15 - 85\n",
      "16 - 84\n",
      "17 - 83\n",
      "18 - 82\n",
      "19 - 81\n",
      "20 - 80\n",
      "21 - 79\n",
      "22 - 78\n",
      "23 - 77\n",
      "24 - 76\n",
      "25 - 75\n",
      "26 - 74\n",
      "27 - 73\n",
      "28 - 72\n",
      "29 - 71\n",
      "30 - 70\n",
      "31 - 69\n",
      "32 - 68\n",
      "33 - 67\n",
      "34 - 66\n",
      "35 - 65\n",
      "36 - 64\n",
      "37 - 63\n",
      "38 - 62\n",
      "39 - 61\n",
      "40 - 60\n",
      "41 - 59\n",
      "42 - 58\n",
      "43 - 57\n",
      "44 - 56\n",
      "45 - 55\n",
      "46 - 54\n",
      "47 - 53\n",
      "48 - 52\n",
      "49 - 51\n",
      "50 - 50\n",
      "51 - 49\n",
      "52 - 48\n",
      "53 - 47\n",
      "54 - 46\n",
      "55 - 45\n",
      "56 - 44\n",
      "57 - 43\n",
      "58 - 42\n",
      "59 - 41\n",
      "60 - 40\n",
      "61 - 39\n",
      "62 - 38\n",
      "63 - 37\n",
      "64 - 36\n",
      "65 - 35\n",
      "66 - 34\n",
      "67 - 33\n",
      "68 - 32\n",
      "69 - 31\n",
      "70 - 30\n",
      "71 - 29\n",
      "72 - 28\n",
      "73 - 27\n",
      "74 - 26\n",
      "75 - 25\n",
      "76 - 24\n",
      "77 - 23\n",
      "78 - 22\n",
      "79 - 21\n",
      "80 - 20\n",
      "81 - 19\n",
      "82 - 18\n",
      "83 - 17\n",
      "84 - 16\n",
      "85 - 15\n",
      "86 - 14\n",
      "87 - 13\n",
      "88 - 12\n",
      "89 - 11\n",
      "90 - 10\n",
      "91 - 9\n",
      "92 - 8\n",
      "93 - 7\n",
      "94 - 6\n",
      "95 - 5\n",
      "96 - 4\n",
      "97 - 3\n",
      "98 - 2\n",
      "99 - 1\n"
     ]
    }
   ],
   "source": [
    "for i in range(1, 100):\n",
    "    print(\"{0} - {1}\".format(i, 100 - i))\n"
   ]
  },
  {
   "cell_type": "code",
   "execution_count": 6,
   "id": "04d265d8",
   "metadata": {},
   "outputs": [
    {
     "name": "stdout",
     "output_type": "stream",
     "text": [
      "IP adresi girin (örn: 192.168.0.1): 192.168.0.1\n",
      "192.168.0.2\n",
      "192.168.0.3\n",
      "192.168.0.4\n",
      "192.168.0.5\n",
      "192.168.0.6\n"
     ]
    }
   ],
   "source": [
    "ip = input(\"IP adresi girin (örn: 192.168.0.1): \")\n",
    "\n",
    "# IP adresini parçalara ayır\n",
    "ip_parcalari = ip.split(\".\")\n",
    "\n",
    "# Son değeri int'e çevir\n",
    "son_deger = int(ip_parcalari[-1])\n",
    "\n",
    "# IP adresini ve sonraki 5 değeri yazdır\n",
    "for i in range(5):\n",
    "    son_deger += 1\n",
    "    if son_deger > 255:\n",
    "        son_deger = 0\n",
    "        ip_parcalari[-2] = str(int(ip_parcalari[-2]) + 1)\n",
    "    if int(ip_parcalari[-2]) > 255:\n",
    "        ip_parcalari[-2] = '0'\n",
    "        ip_parcalari[-3] = str(int(ip_parcalari[-3]) + 1)\n",
    "    if int(ip_parcalari[-3]) > 255:\n",
    "        ip_parcalari[-3] = '0'\n",
    "        ip_parcalari[-4] = str(int(ip_parcalari[-4]) + 1)\n",
    "    print(\".\".join(ip_parcalari[:-1] + [str(son_deger)]))\n"
   ]
  },
  {
   "cell_type": "code",
   "execution_count": null,
   "id": "79790b16",
   "metadata": {},
   "outputs": [],
   "source": []
  }
 ],
 "metadata": {
  "kernelspec": {
   "display_name": "Python 3 (ipykernel)",
   "language": "python",
   "name": "python3"
  },
  "language_info": {
   "codemirror_mode": {
    "name": "ipython",
    "version": 3
   },
   "file_extension": ".py",
   "mimetype": "text/x-python",
   "name": "python",
   "nbconvert_exporter": "python",
   "pygments_lexer": "ipython3",
   "version": "3.9.15"
  }
 },
 "nbformat": 4,
 "nbformat_minor": 5
}
